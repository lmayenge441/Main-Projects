{
  "nbformat": 4,
  "nbformat_minor": 0,
  "metadata": {
    "colab": {
      "provenance": [],
      "include_colab_link": true
    },
    "kernelspec": {
      "name": "python3",
      "display_name": "Python 3"
    },
    "language_info": {
      "name": "python"
    }
  },
  "cells": [
    {
      "cell_type": "markdown",
      "metadata": {
        "id": "view-in-github",
        "colab_type": "text"
      },
      "source": [
        "<a href=\"https://colab.research.google.com/github/lmayenge441/Main-Projects/blob/main/project_sub1.ipynb\" target=\"_parent\"><img src=\"https://colab.research.google.com/assets/colab-badge.svg\" alt=\"Open In Colab\"/></a>"
      ]
    },
    {
      "cell_type": "code",
      "execution_count": null,
      "metadata": {
        "id": "ijka11wrlKi2"
      },
      "outputs": [],
      "source": [
        "import pandas as pd\n",
        "\n",
        "#skips any corrupted rows\n",
        "#\"engine\" is slow\n",
        "#still crashing\n",
        "train_x = pd.read_csv(\"airbnb_train_x.csv\", engine='python', encoding='utf-8', on_bad_lines='skip')\n",
        "train_y = pd.read_csv(\"airbnb_train_y.csv\")\n",
        "test_x = pd.read_csv(\"airbnb_test_x.csv\", engine='python', encoding='utf-8', on_bad_lines='skip')\n",
        "\n",
        "all_data = pd.concat([train_x, test_x], axis=0)\n",
        "\n",
        "drop_cols = [\n",
        "    'name', 'summary', 'space', 'description', 'neighborhood_overview', 'notes',\n",
        "    'transit', 'access', 'interaction', 'house_rules', 'host_about',\n",
        "    'square_feet', 'license', 'weekly_price', 'monthly_price',\n",
        "    'host_acceptance_rate', 'jurisdiction_names', 'features'\n",
        "]\n",
        "all_data = all_data.drop(columns=drop_cols)\n",
        "\n",
        "#fill missing numeric values with 0\n",
        "numeric_cols = all_data.select_dtypes(include='number').columns\n",
        "all_data[numeric_cols] = all_data[numeric_cols].fillna(0)\n",
        "\n",
        "#fill missing categorical values with 'Unknown'\n",
        "cat_cols = all_data.select_dtypes(include='object').columns\n",
        "all_data[cat_cols] = all_data[cat_cols].fillna(\"Unknown\")\n",
        "\n",
        "all_data = pd.get_dummies(all_data, drop_first=True)\n",
        "\n",
        "#split back into train and test\n",
        "X_train = all_data.iloc[:len(train_x), :]\n",
        "X_test = all_data.iloc[len(train_x):, :]\n",
        "\n",
        "#get the label for high_booking_rate\n",
        "y_train = (train_y['high_booking_rate'] == \"YES\").astype(int)\n",
        "\n",
        "print(X_train.shape, X_test.shape, y_train.shape)"
      ]
    },
    {
      "cell_type": "code",
      "source": [
        "from sklearn.linear_model import LogisticRegression\n",
        "from sklearn.metrics import roc_auc_score\n",
        "\n",
        "# Increase max_iter to ensure convergence\n",
        "model = LogisticRegression(max_iter=1000, solver='lbfgs', verbose=1)  # Add solver and verbose for feedback\n",
        "model.fit(X_train, y_train)\n",
        "\n",
        "# Predict probabilities\n",
        "y_pred_proba = model.predict_proba(X_test)[:, 1]"
      ],
      "metadata": {
        "id": "JSzSmAncoaBV"
      },
      "execution_count": null,
      "outputs": []
    },
    {
      "cell_type": "code",
      "source": [
        "sub1 = pd.DataFrame({'x': y_pred_proba})\n",
        "sub1.to_csv(\"high_booking_rate_group10.csv\", index=False)"
      ],
      "metadata": {
        "id": "0J8XZTkVocpz",
        "colab": {
          "base_uri": "https://localhost:8080/",
          "height": 162
        },
        "outputId": "973c787e-1e46-45ca-eb57-1806698bb50f"
      },
      "execution_count": null,
      "outputs": [
        {
          "output_type": "error",
          "ename": "NameError",
          "evalue": "name 'pd' is not defined",
          "traceback": [
            "\u001b[0;31m---------------------------------------------------------------------------\u001b[0m",
            "\u001b[0;31mNameError\u001b[0m                                 Traceback (most recent call last)",
            "\u001b[0;32m<ipython-input-3-bb944121ef17>\u001b[0m in \u001b[0;36m<cell line: 0>\u001b[0;34m()\u001b[0m\n\u001b[0;32m----> 1\u001b[0;31m \u001b[0msub1\u001b[0m \u001b[0;34m=\u001b[0m \u001b[0mpd\u001b[0m\u001b[0;34m.\u001b[0m\u001b[0mDataFrame\u001b[0m\u001b[0;34m(\u001b[0m\u001b[0;34m{\u001b[0m\u001b[0;34m'x'\u001b[0m\u001b[0;34m:\u001b[0m \u001b[0my_pred_proba\u001b[0m\u001b[0;34m}\u001b[0m\u001b[0;34m)\u001b[0m\u001b[0;34m\u001b[0m\u001b[0;34m\u001b[0m\u001b[0m\n\u001b[0m\u001b[1;32m      2\u001b[0m \u001b[0msub1\u001b[0m\u001b[0;34m.\u001b[0m\u001b[0mto_csv\u001b[0m\u001b[0;34m(\u001b[0m\u001b[0;34m\"high_booking_rate_group10.csv\"\u001b[0m\u001b[0;34m,\u001b[0m \u001b[0mindex\u001b[0m\u001b[0;34m=\u001b[0m\u001b[0;32mFalse\u001b[0m\u001b[0;34m)\u001b[0m\u001b[0;34m\u001b[0m\u001b[0;34m\u001b[0m\u001b[0m\n",
            "\u001b[0;31mNameError\u001b[0m: name 'pd' is not defined"
          ]
        }
      ]
    }
  ]
}